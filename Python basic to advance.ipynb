{
 "cells": [
  {
   "cell_type": "markdown",
   "id": "e507aad5",
   "metadata": {},
   "source": [
    "#### 1. Function for writing \"hello world\"\n"
   ]
  },
  {
   "cell_type": "code",
   "execution_count": 1,
   "id": "13a66b63",
   "metadata": {},
   "outputs": [
    {
     "name": "stdout",
     "output_type": "stream",
     "text": [
      "hello world\n"
     ]
    }
   ],
   "source": [
    "def hello():\n",
    "    print(\"hello world\")\n",
    "hello()"
   ]
  },
  {
   "cell_type": "markdown",
   "id": "723a97e9",
   "metadata": {},
   "source": [
    "#### 2. Write a Python program to print the following string in a specific format (see the output). Sample String: \"Twinkle, twinkle, little star, How I wonder what you are! Up above the world so high, Like a diamond in the sky. Twinkle, twinkle, little star, How I wonder what you are!\""
   ]
  },
  {
   "cell_type": "code",
   "execution_count": 2,
   "id": "bf1ee163",
   "metadata": {},
   "outputs": [
    {
     "name": "stdout",
     "output_type": "stream",
     "text": [
      "Twinkle, twinkle, little star, \n",
      "\tHow I wonder what you are! \n",
      "\t\tUp above the world so high, Like a diamond in the sky. \n",
      "\t\tTwinkle, twinkle, little star, \n",
      "\tHow I wonder what you are!\n"
     ]
    }
   ],
   "source": [
    "print(\"Twinkle, twinkle, little star, \\n\\tHow I wonder what you are! \\n\\t\\tUp above the world so high, Like a diamond in the sky. \\n\\t\\tTwinkle, twinkle, little star, \\n\\tHow I wonder what you are!\"\n",
    ")"
   ]
  },
  {
   "cell_type": "markdown",
   "id": "0e8bda64",
   "metadata": {},
   "source": [
    "#### 3. Write a Python program to find out what version of Python you are using."
   ]
  },
  {
   "cell_type": "code",
   "execution_count": 3,
   "id": "761fdb2e",
   "metadata": {},
   "outputs": [
    {
     "name": "stdout",
     "output_type": "stream",
     "text": [
      "python version\n",
      "3.9.6 (default, Oct 18 2022, 12:41:40) \n",
      "[Clang 14.0.0 (clang-1400.0.29.202)]\n"
     ]
    }
   ],
   "source": [
    "import sys\n",
    "print(\"python version\")\n",
    "print(sys.version)"
   ]
  },
  {
   "cell_type": "markdown",
   "id": "44ca3d8d",
   "metadata": {},
   "source": [
    "#### 4. Write a Python program to display the current date and time."
   ]
  },
  {
   "cell_type": "code",
   "execution_count": 8,
   "id": "69f01baa",
   "metadata": {},
   "outputs": [
    {
     "name": "stdout",
     "output_type": "stream",
     "text": [
      "current data and time\n",
      "2023-05-29 12:35:09\n"
     ]
    }
   ],
   "source": [
    "import datetime\n",
    "current_time=datetime.datetime.now()\n",
    "print( \"current data and time\")\n",
    "print(current_time.strftime(\"%Y-%m-%d %H:%M:%S\"))"
   ]
  },
  {
   "cell_type": "markdown",
   "id": "5db71014",
   "metadata": {},
   "source": [
    "#### 5. Write a Python program that calculates the area of a circle based on the radius entered by the user.  Formula : Area of circle pi*r2"
   ]
  },
  {
   "cell_type": "code",
   "execution_count": 12,
   "id": "34f73e4c",
   "metadata": {},
   "outputs": [
    {
     "name": "stdout",
     "output_type": "stream",
     "text": [
      "enter the radius: 2\n",
      "12.566370614359172\n"
     ]
    }
   ],
   "source": [
    "from math import pi\n",
    "radius=float(input(\"enter the radius: \"))\n",
    "print(pi*radius**2)"
   ]
  },
  {
   "cell_type": "markdown",
   "id": "2624a13a",
   "metadata": {},
   "source": [
    "#### 6. Write a Python program that accepts the user's first and last name and prints them in reverse order with a space between them."
   ]
  },
  {
   "cell_type": "code",
   "execution_count": 15,
   "id": "a55f3964",
   "metadata": {},
   "outputs": [
    {
     "name": "stdout",
     "output_type": "stream",
     "text": [
      "enter first name: Monika\n",
      "enter last name: Rajput\n",
      "Hello Rajput Monika\n"
     ]
    }
   ],
   "source": [
    "fname=input(\"enter first name: \")\n",
    "lname=input(\"enter last name: \")\n",
    "print(\"Hello \"+lname+\" \"+fname)"
   ]
  },
  {
   "cell_type": "markdown",
   "id": "4865ec54",
   "metadata": {},
   "source": [
    "#### 7. Write a Python program that accepts a sequence of comma-separated numbers from the user and generates a list and a tuple of those numbers.\n",
    "Sample data : 3, 5, 7, 23\n",
    "Output :\n",
    "List : ['3', ' 5', ' 7', ' 23']\n",
    "Tuple : ('3', ' 5', ' 7', ' 23')"
   ]
  },
  {
   "cell_type": "code",
   "execution_count": 21,
   "id": "a9a5333c",
   "metadata": {},
   "outputs": [
    {
     "name": "stdout",
     "output_type": "stream",
     "text": [
      "enter comma separated numbers : 3,5\n",
      "['3', '5']\n",
      "('3', '5')\n"
     ]
    }
   ],
   "source": [
    "Enter_numbers=input(\"enter comma separated numbers : \")\n",
    "list1=Enter_numbers.split(\",\")\n",
    "tuple1=tuple(list1)\n",
    "print(list1)\n",
    "print(tuple1)"
   ]
  },
  {
   "cell_type": "markdown",
   "id": "dd527d3d",
   "metadata": {},
   "source": [
    "#### 8. Write a Python program that accepts a filename from the user and prints the extension of the file.\n",
    "\n",
    "Sample filename: abc.java"
   ]
  },
  {
   "cell_type": "code",
   "execution_count": 24,
   "id": "fce064f9",
   "metadata": {},
   "outputs": [
    {
     "name": "stdout",
     "output_type": "stream",
     "text": [
      "enter the file name: m.py\n",
      "py\n"
     ]
    }
   ],
   "source": [
    "file=input(\"enter the file name: \")\n",
    "extension=file.split(\".\")\n",
    "print(extension[-1])"
   ]
  },
  {
   "cell_type": "markdown",
   "id": "6299a261",
   "metadata": {},
   "source": [
    "#### 9. Write a Python program to display the first and last colors from the following list.\n",
    "color_list = [\"Red\",\"Green\",\"White\" ,\"Black\"]"
   ]
  },
  {
   "cell_type": "code",
   "execution_count": 30,
   "id": "277804bb",
   "metadata": {},
   "outputs": [
    {
     "name": "stdout",
     "output_type": "stream",
     "text": [
      "Red Black\n"
     ]
    }
   ],
   "source": [
    "color_list = [\"Red\",\"Green\",\"White\" ,\"Black\"]\n",
    "print(color_list[0],color_list[-1])"
   ]
  },
  {
   "cell_type": "markdown",
   "id": "62a95007",
   "metadata": {},
   "source": [
    "#### 10. Write a Python program that accepts an integer (n) and computes the value of n+nn+nnn.\n",
    "Sample value of n is 5\n",
    "Expected Result : 615"
   ]
  },
  {
   "cell_type": "code",
   "execution_count": null,
   "id": "0197eed5",
   "metadata": {},
   "outputs": [],
   "source": []
  }
 ],
 "metadata": {
  "kernelspec": {
   "display_name": "Python 3 (ipykernel)",
   "language": "python",
   "name": "python3"
  },
  "language_info": {
   "codemirror_mode": {
    "name": "ipython",
    "version": 3
   },
   "file_extension": ".py",
   "mimetype": "text/x-python",
   "name": "python",
   "nbconvert_exporter": "python",
   "pygments_lexer": "ipython3",
   "version": "3.9.6"
  }
 },
 "nbformat": 4,
 "nbformat_minor": 5
}
